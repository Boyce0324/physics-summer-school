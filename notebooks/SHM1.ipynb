{
 "cells": [
  {
   "cell_type": "markdown",
   "metadata": {},
   "source": [
    "# Simple Harmonic Oscillators (part 1.)\n",
    "\n",
    "Consider a mass attached to a spring lying on a frictionless surface as shown in the figure. "
   ]
  },
  {
   "cell_type": "markdown",
   "metadata": {},
   "source": [
    "![basic shm](images/SHM.svg)</br>"
   ]
  },
  {
   "cell_type": "markdown",
   "metadata": {},
   "source": [
    "\n",
    "\n",
    "\n",
    "The resotoring force on the mass is directly proportional to the extension of the spring so :\n",
    "\n",
    "$$\n",
    "m\\frac{d^2x}{dt^2}=-kx\n",
    "$$\n",
    "\n",
    "Where $k$ is the spring constant for that spring.\n",
    "\n",
    "This can be rewritten as \n",
    "\n",
    "$$\n",
    "\\frac{d^2x}{dt^2} = - \\omega^2 x\n",
    "$$\n",
    "\n",
    "where $\\omega= \\sqrt{k/m}$\n",
    "\n",
    "\n",
    "**Write this second order differentional equation as a series of first order differential equations in the box below.**"
   ]
  },
  {
   "cell_type": "code",
   "execution_count": null,
   "metadata": {},
   "outputs": [],
   "source": []
  },
  {
   "cell_type": "markdown",
   "metadata": {},
   "source": [
    "**Now write a simulation of a similar system with a spring constant $18Nm^{-1}$ and a mass of 0.5 Kg. Plot both the position and the velocity of the mass if intitally you extend the spring by 10cm. Run your simulation for 10s. You should think about what is happening to the energy in this system**"
   ]
  },
  {
   "cell_type": "code",
   "execution_count": null,
   "metadata": {},
   "outputs": [],
   "source": []
  },
  {
   "cell_type": "markdown",
   "metadata": {},
   "source": [
    "## Damped Oscillators\n",
    "Now you replace the frictionless surface with different surfaces with different amounts of friction. However in each case the friction is proportional to the velocity so the equation of motion becomes:\n",
    "\n",
    "$$\n",
    "m\\frac{d^2x}{dt^2} +b\\frac{dx}{dt} +k x=0\n",
    "$$\n",
    "\n",
    "where b is a constant for the particular surface.\n",
    "This is often written as:\n",
    "\n",
    "$$\n",
    "\\frac{d^2x}{dt^2} +\\gamma\\frac{dx}{dt}+  \\omega^2 x =0\n",
    "$$\n",
    "\n",
    "**Modify your simulations to include this damping. Investigate how the motion changes with different values of $b$. Specifically, try values of $b$ that are less than 6, $b=6$ and values for $b$ that are much greater than 6. You should try to describe what you see and decide whether or not the motion is oscillatory or not. Keep the plots as they may be useful in your presentation. You should think about what is happening to the energy in this system**\n"
   ]
  },
  {
   "cell_type": "code",
   "execution_count": null,
   "metadata": {},
   "outputs": [],
   "source": []
  }
 ],
 "metadata": {
  "kernelspec": {
   "display_name": "Python 3 (ipykernel)",
   "language": "python",
   "name": "python3"
  },
  "language_info": {
   "codemirror_mode": {
    "name": "ipython",
    "version": 3
   },
   "file_extension": ".py",
   "mimetype": "text/x-python",
   "name": "python",
   "nbconvert_exporter": "python",
   "pygments_lexer": "ipython3",
   "version": "3.12.4"
  },
  "vscode": {
   "interpreter": {
    "hash": "f3245ed5f1a73a112821c8e0f0774d51da2e0b158274f0cc4946941fd8b74480"
   }
  }
 },
 "nbformat": 4,
 "nbformat_minor": 4
}
