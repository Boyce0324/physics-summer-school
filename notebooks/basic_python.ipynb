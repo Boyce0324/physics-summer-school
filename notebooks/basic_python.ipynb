{
 "cells": [
  {
   "cell_type": "markdown",
   "metadata": {},
   "source": [
    "# Welcome to the Imperial College Summer School!\n",
    "\n",
    "This Jupyter Notebook will introduce you to the basics of Python step-by-step, all you have to do is read through each section and attempt the tasks in bold.\n",
    "Some tasks are in yellow boxes: These are **OPTIONAL** and should only be attempted after completing all non-optional tasks first!\n",
    "\n",
    "\n",
    "\n",
    "**The Notebook is intentionally kept brief, so if you have any questions or would like some more information on a section reach out to a demonstrator or mentor, we are happy to help!**"
   ]
  },
  {
   "cell_type": "markdown",
   "metadata": {},
   "source": [
    "  "
   ]
  },
  {
   "cell_type": "markdown",
   "metadata": {},
   "source": [
    "# Basic Python\n",
    "\n",
    "Python is a powerful computer scripting language. It allows you to do calculations that would take longer than your lifetime in seconds. It is free for most platforms. It is also interfaced to a large number of powerful packages that allow you to do very complicated things. These are also often free. In this notebook you will learn some of the basics features of the Python computing language.\n",
    "\n",
    "\n",
    "\n"
   ]
  },
  {
   "cell_type": "markdown",
   "metadata": {},
   "source": [
    "  "
   ]
  },
  {
   "attachments": {
    "image.png": {
     "image/png": "[encoded data removed]"
    }
   },
   "cell_type": "markdown",
   "metadata": {},
   "source": [
    "# 1. Jupyter Notebooks\n",
    "There are many integrated developing environments (IDEs) which can be used for writing Python code. Jupyter Notebooks is very useful for beginners. It includes both code and markdown cells (like this block of text) so you can develop code and discuss it, all in one place!\n",
    "\n",
    "You will get very familiar with this platform over the next few days but here are a few **tips and tricks.**\n",
    "\n",
    "At the top left of your screen you will find a series of icons (also shown below). Have a look at what each of them do by hovering over each with your cursor.\n",
    "\n",
    "![image.png](attachment:image.png)\n",
    "\n",
    "\n",
    "Code cells look like this:\n"
   ]
  },
  {
   "cell_type": "code",
   "execution_count": 5,
   "metadata": {},
   "outputs": [
    {
     "name": "stdout",
     "output_type": "stream",
     "text": [
      "Hello there! This is a code cell\n"
     ]
    }
   ],
   "source": [
    "print(\"Hello there! This is a code cell\")"
   ]
  },
  {
   "attachments": {
    "image-2.png": {
     "image/png": "[encoded data removed]"
    }
   },
   "cell_type": "markdown",
   "metadata": {},
   "source": [
    "You can run a code cell by clicking the \"Run\" icon or pressing SHIFT+Enter. Remember that you can always change the content of a code cell and rerun it. You can insert new cells into your own notebooks using the + in the toolbar. This is useful if you want to try out different variations of the same code without losing the previous version.\n",
    "\n",
    "Sometimes running a code cell can take a while. This is indicated by an asterix to the left of the code cell. If the code seems to be stuck you can \"interrupt the kernel\". This will stop all running code and gives you the opportunity to fix your code.\n",
    "![image-2.png](attachment:image-2.png)\n"
   ]
  },
  {
   "cell_type": "markdown",
   "metadata": {},
   "source": [
    "  "
   ]
  },
  {
   "cell_type": "markdown",
   "metadata": {},
   "source": [
    "## Error messages\n",
    "\n",
    "A big part of developing code is writing something that doesn't work. Python is a great programming language because it gives you very detailed error messages. These messages are nothing to be afraid of! Try to understand what went wrong in your code and if you need any help, ask a mentor or demonstrator."
   ]
  },
  {
   "cell_type": "markdown",
   "metadata": {},
   "source": [
    "With this out of the way, it's now time to learn some Python!"
   ]
  },
  {
   "cell_type": "markdown",
   "metadata": {},
   "source": [
    "# 2. Using Python as a calculator\n",
    "\n",
    "At a very basic level you can use python as a calculator. There are 7 arithmetic operators in Python (for addition, subtraction, ...). You can find out what they are by googling \"python arithmetic operators\" \n",
    "\n",
    "**Use the code cell below to see how they work.**\n",
    "\n",
    "**Experiment with**:\n",
    "- brackets or group operations (e.g. 3×(3+2^2))\n",
    "- try out scientific notation: e.g. 1.234 × 10^5, or the accepted Python short hand 1.234e5\n",
    "- try dividing \n",
    "    - an odd integer by an even integer (eg 5/2),\n",
    "    - a decimal by an integer (eg 2.4/3) \n",
    "    - and an integer by a decimal\n",
    "    \n",
    "    \n",
    "\n"
   ]
  },
  {
   "cell_type": "code",
   "execution_count": 2,
   "metadata": {},
   "outputs": [
    {
     "data": {
      "text/plain": [
       "2"
      ]
     },
     "execution_count": 2,
     "metadata": {},
     "output_type": "execute_result"
    }
   ],
   "source": [
    "1+1"
   ]
  },
  {
   "cell_type": "markdown",
   "metadata": {},
   "source": [
    "<div style=\"background-color: #3DB6FC\">\n",
    "<b>Summary</b> - Double click on this cell to edit the text and summarise what you found in the section above.</div>\n",
    "\n",
    "\n",
    "I found out...\n"
   ]
  },
  {
   "cell_type": "markdown",
   "metadata": {},
   "source": [
    "### 2.1. Data Types, Literals and Operators\n",
    "\n",
    "There are different types of data in Python, such as numbers and strings. Strings are enclosed by quotation marks, which indicate that they are a word instead of a variable. The (arithmetic) operators from section 2 can be used on strings although the number of operators that work on strings is much lower."
   ]
  },
  {
   "cell_type": "code",
   "execution_count": 1,
   "metadata": {},
   "outputs": [
    {
     "name": "stdout",
     "output_type": "stream",
     "text": [
      "hello world\n"
     ]
    }
   ],
   "source": [
    "print(\"hello\" + \" \" + \"world\")"
   ]
  },
  {
   "cell_type": "code",
   "execution_count": 2,
   "metadata": {},
   "outputs": [
    {
     "name": "stdout",
     "output_type": "stream",
     "text": [
      "hellohello\n"
     ]
    }
   ],
   "source": [
    "print('hello'*2)"
   ]
  },
  {
   "cell_type": "markdown",
   "metadata": {},
   "source": [
    "<div style=\"background-color: #FFF8C6\">\n",
    "<b> If you feel like it try what some of the operators do on strings</b>"
   ]
  },
  {
   "cell_type": "code",
   "execution_count": null,
   "metadata": {},
   "outputs": [],
   "source": []
  },
  {
   "cell_type": "markdown",
   "metadata": {},
   "source": [
    "**Sidenote: Literals** are data inserted directly into source-code. In the example above the strings \"hello\" and \"world\", as well as the integer 2 in the second example are literals! We do not define them via a variable, instead we use them directly in our source-code. "
   ]
  },
  {
   "cell_type": "markdown",
   "metadata": {},
   "source": [
    "# 3. Variables, Keywords and Comments\n",
    "\n",
    "The **=** operator (sometimes called the assignment operator) allows you to store data for later use. The syntax for this process is \n",
    "```python\n",
    "variable_name = value\n",
    "```\n",
    "\n",
    "which stores the value to the right of the operator under the name to the left of the operator. Note that, unlike in algebra, this is a directional process - the variable on the left of the = is always assigned the value of what is on the right of the =. You can retrieve a stored value simply by using its name:\n"
   ]
  },
  {
   "cell_type": "code",
   "execution_count": 3,
   "metadata": {},
   "outputs": [
    {
     "name": "stdout",
     "output_type": "stream",
     "text": [
      "4\n"
     ]
    }
   ],
   "source": [
    "thenumberfour = 4\n",
    "print(thenumberfour)"
   ]
  },
  {
   "cell_type": "code",
   "execution_count": 4,
   "metadata": {},
   "outputs": [
    {
     "name": "stdout",
     "output_type": "stream",
     "text": [
      "6\n"
     ]
    }
   ],
   "source": [
    "print(thenumberfour + 2)\n"
   ]
  },
  {
   "cell_type": "code",
   "execution_count": 5,
   "metadata": {},
   "outputs": [
    {
     "name": "stdout",
     "output_type": "stream",
     "text": [
      "6\n"
     ]
    }
   ],
   "source": [
    "calculation_result = thenumberfour + 2\n",
    "print(calculation_result)"
   ]
  },
  {
   "cell_type": "markdown",
   "metadata": {},
   "source": [
    "There are some limitations to variable names. **Give the following examples a try and explain what conclusions you draw in the Markdown cell below.**\n",
    "- Can you identify the rules that govern the possible names? Try: my_glorious_variable_3, 1value, my favourite value, A#B\n",
    "- Are the values case sensitive, i.e., is \"name\" the same as \"naMe\"?\n",
    "- What happens when you give the same name to two different values? (Hint: use print(variable_name))\n",
    "- What happens when you give two different names to the same value?\n",
    "- What happens if you store the result of a calculation involving a particular name as that very name?"
   ]
  },
  {
   "cell_type": "code",
   "execution_count": null,
   "metadata": {},
   "outputs": [],
   "source": []
  },
  {
   "cell_type": "markdown",
   "metadata": {},
   "source": [
    "<div style=\"background-color: #3DB6FC\">\n",
    "<b>Summary</b> - Double click on this cell to edit the text and summarise what you found in the section above.</div>\n",
    "\n",
    "\n",
    "I found out...\n"
   ]
  },
  {
   "cell_type": "markdown",
   "metadata": {},
   "source": [
    "### 3.1. Comments\n",
    "The reason why A#B didn’t work as a variable name is that # is Python’s comment character, which means “Take everything after this character until the end of the line and completely ignore it”. Comments are used to annotate source code to make it more human-readable, for example to describe in natural language what a complicated line of code does, to make it easier to understand:\n",
    "\n"
   ]
  },
  {
   "cell_type": "code",
   "execution_count": 6,
   "metadata": {},
   "outputs": [
    {
     "name": "stdout",
     "output_type": "stream",
     "text": [
      "hello\n"
     ]
    }
   ],
   "source": [
    "print(\"hello\") #This line prints the string \"hello\""
   ]
  },
  {
   "cell_type": "markdown",
   "metadata": {},
   "source": [
    "### 3.2. Keywords\n",
    "\n",
    "**Careful**, some words work as a variable name but are Python keyword that really shouldn't be re-assigned, these few words have a special meaning to the language. The Python 3 keywords are:\n",
    "```python \n",
    "and       del       for     is       return\n",
    "as        elif      from    lambda   True\n",
    "assert    else      global  not      try\n",
    "break     except    help    or       while\n",
    "class     exec      if      pass     with\n",
    "continue  False     import  print    yield\n",
    "def       finally   in      raise          \n",
    "```\n",
    "\n",
    "This course covers some but not all of them. The functionality of the print keyword is to take a value and output it to the screen. You have not needed it so far, as the interactive mode of the Python interpreter automatically prints the result of the last line, however this is not the case in script mode, or even if using the interactive interpreter with slightly more complicated Python code. Let’s try some!"
   ]
  },
  {
   "cell_type": "markdown",
   "metadata": {},
   "source": [
    "# 4. Lists and Tuples\n",
    "It is often inconvenient to assign every piece of data a separate name - often data can be grouped together to make dealing with it easier. Several data types exist in Python that help with this, the most common of which are lists, tuples, and dictionaries.\n",
    "\n",
    "## 4.1. Lists\n",
    "Lists in Python are defined using square brackets surrounding zero or more comma separated literals: "
   ]
  },
  {
   "cell_type": "code",
   "execution_count": 6,
   "metadata": {},
   "outputs": [],
   "source": [
    "empty_list = []\n",
    "some_primes = [2,3,5,7,11,13]\n",
    "names_of_cats = [\"Ginger\", \"Princess\", \"Zorxo the Clawful\"]"
   ]
  },
  {
   "cell_type": "markdown",
   "metadata": {},
   "source": [
    "Lists store information in a particular sequence. Any element of the sequence can be accessed using the name of the list and its index in the sequence, that is, the number that corresponds to its place in the sequence. You can access a specific item in a list by placing the index in square brackets after the list name. Indices of lists start counting at zero, a computer science convention. \n",
    "\n",
    "**Play around with the example below by changing the numbers in the square brackets of the variable in the print statement. What happens if you attempt to access the 10000th element?**"
   ]
  },
  {
   "cell_type": "code",
   "execution_count": 7,
   "metadata": {},
   "outputs": [
    {
     "name": "stdout",
     "output_type": "stream",
     "text": [
      "2\n"
     ]
    }
   ],
   "source": [
    "first_prime = some_primes[0]         # That's 2\n",
    "second_prime = some_primes[1]        # That's 3\n",
    "print(first_prime) #try changing this to second_prime"
   ]
  },
  {
   "cell_type": "markdown",
   "metadata": {},
   "source": [
    "\n",
    "Negative indices count from the back of the list, but since negative zero doesn’t make sense, the convention here is that -1 is the last item in the list. \n"
   ]
  },
  {
   "cell_type": "code",
   "execution_count": 8,
   "metadata": {},
   "outputs": [
    {
     "name": "stdout",
     "output_type": "stream",
     "text": [
      "Zorxo the Clawful\n"
     ]
    }
   ],
   "source": [
    "best_cat_name = names_of_cats[-1]    # That's \"Zorxo the Clawful\"\n",
    "print(best_cat_name)"
   ]
  },
  {
   "cell_type": "markdown",
   "metadata": {},
   "source": [
    "<div style=\"background-color: #3DB6FC\">\n",
    "<b>Summary</b> - Double click on this cell to edit the text and summarise what you found in the section above.</div>\n",
    "\n",
    "\n",
    "I found out...\n"
   ]
  },
  {
   "cell_type": "markdown",
   "metadata": {},
   "source": [
    "<div style=\"background-color: #FFF8C6\">\n",
    "<b>Remember that parts in yellow boxes are optional extras. They are interesting and useful parts of python but you should only do them if you have time.</b><br/>\n",
    "It is also possible to select a number of items at once (a slice in Python terminology), by specifying the indices of the items before which you want to make the cuts in the list as [index1:index2]. If you miss out either of these, Python interprets that as “from the beginning” or “to the end”:<br>\n",
    "\n",
    "```python\n",
    "print some_primes[2:4]               # prints [5,7]\n",
    "print some_primes[3:]                # prints [7,11,13]\n",
    "```\n",
    "<br>\n",
    "You can also slice taking every nth element by adding a step size in the square brackets: [beginning:end:step]:<br>\n",
    "\n",
    "```python\n",
    "some_primes[1:-1:2]                  # gives [3,7]\n",
    "```\n",
    "<br>\n",
    "Familiarise yourself with grouping data together with lists. Try the above slices different values of beginning:end:step to check you understand how it works.<br>\n",
    "\n",
    "One property of a list is that they are mutable, which means changeable. Many other data types such as strings are immutable – you cannot change a single letter in a string, it is necessary to construct a whole new string with that letter being different. In lists, however, it is possible:<br>\n",
    "\n",
    "```python\n",
    "names_of_cats[1] = \"Fluffy\"\n",
    "# names_of_cats is now [\"Ginger\", \"Fluffy\", \"Zorxo the Clawful\"]\n",
    "```\n",
    "<br>\n",
    "You can also add items to and remove items from a list:<br>\n",
    "\n",
    "```python\n",
    "names_of_cats.append(\"Fang\")\n",
    "# names_of_cats is now [\"Ginger\", \"Fluffy\", \"Zorxo the Clawful\", \"Fang\"]\n",
    "names_of_cats.remove(\"Ginger\")\n",
    "# names_of_cats is now [\"Fluffy\", \"Zorxo the Clawful\", \"Fang\"]\n",
    "```\n",
    "<br>\n",
    "\n",
    "<b>In the code Cell below create the following list:<br>\n",
    "\n",
    "```python\n",
    "icecream_flavours = [\"vanilla\", \"strawberry\", \"chocolate\", \"dorset naga\",\n",
    "                     \"bacon\", \"green egg\", \"snail and lettuce\"]\n",
    "```\n",
    "<ul>\n",
    "<li>Swap the first two items in the list.</li>\n",
    "<li>Reverse the list with slices.</li>\n",
    "</ul>\n",
    "</b>\n"
   ]
  },
  {
   "cell_type": "code",
   "execution_count": null,
   "metadata": {},
   "outputs": [],
   "source": []
  },
  {
   "cell_type": "markdown",
   "metadata": {},
   "source": [
    "<div style=\"background-color: #FFF8C6\">\n",
    "You can mix different data types in lists, just as long as you keep track of what is where yourself. Lists such as [“Ginger”, 4, names_of_cats] are fine. (names_of_cats is still a list in its own right, this isn’t a problem. Lists can even contain themselves, but there is hardly ever a need for that!)<br>\n",
    "\n",
    "One thing to note is that since Python keeps tracks of objects in memory with names, it is possible to run into trouble when trying to edit a mutable list:<br>\n",
    "\n",
    "```python\n",
    "A = [1,2,3]      # make list [1,2,3], called \"A\"\n",
    "B = A            # also call it \"B\"\n",
    "B[1] = 0         # set middle element of B to zero.\n",
    "print(A)          # oh no! A has changed also!\n",
    "[1,0,3]\n",
    "```\n",
    "<br>\n",
    "To avoid this behaviour you need to make a copy of the original list. There are several ways you can do this but two of the most common are shown below:<br>\n",
    "\n",
    "```python\n",
    "a=[1,2,4,7,9]\n",
    "# first as above\n",
    "b=a\n",
    "#one way of copying instead\n",
    "c=list(a)\n",
    "#another way of copying\n",
    "d=a[:]\n",
    "#now some checks\n",
    "a[2]=5\n",
    "a\n",
    "[1,2,5,7,9]\n",
    "b\n",
    "[1,2,5,7,9]\n",
    "c\n",
    "[1,2,4,7,9]\n",
    "d\n",
    "[1,2,4,7,9]\n",
    "```\n",
    "<br>\n",
    "It is worth noting how the is and == operators work in these cases:\n",
    "<br>\n",
    "\n",
    "```python\n",
    "In [91]: a=[1,2,4,7,9]\n",
    "In [92]: b=a\n",
    "In [93]: c=list(a)\n",
    "In [94]: d=a[:]\n",
    "In [95]: a is b\n",
    "Out[95]: True\n",
    "In [96]: a == b\n",
    "Out[96]: True\n",
    "In [97]: a is c\n",
    "Out[97]: False\n",
    "In [98]: a == c\n",
    "Out[98]: True\n",
    "In [99]: a is d\n",
    "Out[99]: False\n",
    "In [100]: a == d\n",
    "Out[100]: True\n",
    "```\n",
    "\n",
    "\n",
    "## 4.2.Tuples\n",
    "Tuples behave very similarly to lists, and are accessed the same way, but are immutable. Tuple literals are created by a writing a sequence of items separated by commas, optionally surrounded by parentheses. The items are accessed using the same square bracket notation as with lists. To get a tuple with only one element, you need to have a comma after the element.<br>\n",
    "\n",
    "```python\n",
    "my_tuple = 1,2,3\n",
    "my_tuple = (1,2,3)        #equivalent\n",
    "not_a_tuple = 1         # same as: not_a_tuple=1\n",
    "a_tuple = 1,\n",
    "a_tuple = (\"first!\",)     # here the first and only element of the tuple, at index 0, is \"first!\".\n",
    "```\n",
    "<br>\n",
    "\n",
    "Many aspects of Python are implicit tuples. For instance, the assignment operator = will happily assign tuples of names to tuples of values:<br>\n",
    "\n",
    "```python\n",
    "A,B,C = 1,2,3\n",
    "\n",
    "#which is the same as:\n",
    "(A,B,C) = (1,2,3)\n",
    "\n",
    "#which is the same as:\n",
    "A = 1\n",
    "B = 2\n",
    "C = 3\n",
    "```\n",
    "<br>\n",
    "This behaviour can be easily used to swap the names of data:<br>\n",
    "\n",
    "```python\n",
    "A,B = 1,2\n",
    "A,B = B,A\n",
    "\n",
    "print(A,B)    # prints 2,1\n",
    "```\n",
    "<br>\n",
    "\n",
    "### Dictionaries <br>\n",
    "The third most common collection type used in Python is the Dictionary, or dict, which store mappings from keys to values. For every key, there is a value. Unlike lists and tuples, dicts do not preserve the order of the objects in the collection, and rather than the accessing the contents with indices, they are accessed with keys. Values can be any Python object, keys are usually strings, but it is possible to use certain other objects as keys. Dictionary literals are written as a comma-separated list of key:value pairs, with a colon separating key from value, surrounded by (curly) braces. Dict items are accessed using the same square bracket notation as for lists and tuples, but with a key instead of an integer index.<br>\n",
    "\n",
    "```python\n",
    "student_grades = {\"Simon\": 60, \"Jenny\":68, \"Laura\":112}\n",
    "student_grades[\"Simon\"] += 6  # Extra credit\n",
    "student_grades[\"Laura\"] = 100 # Cap\n",
    "student_grades[\"Pug\"] = 58    # New student!\n",
    "print(student_grades[\"Jenny\"])\n",
    "68\n",
    "```\n",
    "<br>\n",
    "<b>\n",
    "Create the student_grade dict:<br>\n",
    "    \n",
    "```python\n",
    "student_grades = {\"Simon\": 60, \"Jenny\":68, \"Laura\":112}\n",
    "```\n",
    "<br>\n",
    "Remove the ‘Laura’ entry from the dict and add two new students: Callidus with 85 and Ignavus with a list of marks [‘18’, ‘22’, ‘33’].\n",
    "</b>\n",
    "\n"
   ]
  },
  {
   "cell_type": "code",
   "execution_count": null,
   "metadata": {},
   "outputs": [],
   "source": []
  },
  {
   "cell_type": "markdown",
   "metadata": {},
   "source": [
    "# 5. Python Scripts and Program Flow"
   ]
  },
  {
   "cell_type": "markdown",
   "metadata": {},
   "source": [
    "As you try to do more complicated things in Python you will start to write scripts. You will write them in the code cells of your ipython notebook so that you can make notes around them and keep a record of what you have done. However, Python scripts are really just text files that can be written in any text editor and can be run outside of the iPython environment."
   ]
  },
  {
   "cell_type": "markdown",
   "metadata": {},
   "source": [
    "### 5.1. Indented code blocks\n",
    "Python is sensitive to indentation. The code cell below will you you an error message when you run it. **Can you figure out how to fix it?**\n",
    "\n",
    "\n"
   ]
  },
  {
   "cell_type": "code",
   "execution_count": 11,
   "metadata": {},
   "outputs": [
    {
     "ename": "IndentationError",
     "evalue": "unexpected indent (<ipython-input-11-30343d20a010>, line 2)",
     "output_type": "error",
     "traceback": [
      "\u001b[1;36m  File \u001b[1;32m\"<ipython-input-11-30343d20a010>\"\u001b[1;36m, line \u001b[1;32m2\u001b[0m\n\u001b[1;33m    variable2 = 40\u001b[0m\n\u001b[1;37m    ^\u001b[0m\n\u001b[1;31mIndentationError\u001b[0m\u001b[1;31m:\u001b[0m unexpected indent\n"
     ]
    }
   ],
   "source": [
    "variable1 = 23\n",
    "    variable2 = 40\n",
    "print(variable1)"
   ]
  },
  {
   "cell_type": "markdown",
   "metadata": {},
   "source": [
    "Indentation matters! This will become especially clear in the following sections where we introduce if-else statements and loops. Generally, indentation is a way of grouping lines of code together that should be executed under a specific condition which is defined by a control line:\n",
    "\n",
    "```\n",
    "control line with colon:\n",
    "    indented code block line\n",
    "    indented code block line\n",
    "    indented code block line\n",
    "New line of code \n",
    "```\n",
    "\n",
    "The next, non-indented line of code will run once the condition in the control line is no longer true"
   ]
  },
  {
   "cell_type": "markdown",
   "metadata": {},
   "source": [
    "\n",
    "### 5.2. Conditional execution: if-elif-else\n",
    "An if-statement in Python is used to execute code only if a particular condition is true. They are formatted as \n",
    "```\n",
    "if (condition):\n",
    "    code to be executed if the condition evaluates to True.\n",
    "```\n",
    "\n",
    "Optionally, this can be followed by an else: statement and more indented code to be executed if the condition is False.\n",
    "\n",
    "It is also possible to chain several if-else statements together to test several conditions, and to execute code specific to each of them, by following the if block with elif (condition): where elif is a combined else-if.\n",
    "\n",
    "The comparative operators used in Python are:\n",
    "\n",
    "<table style=\"width:100%\">\n",
    "  <tr>\n",
    "  <td><b>Operator</b></td>\n",
    "  <td><b>Description</b></td> \n",
    "  </tr>\n",
    "  <tr>\n",
    "    <td>==</td>\n",
    "    <td>equals (remember that a single = is an assignment operator)</td> \n",
    "  </tr>\n",
    "    <tr>\n",
    "    <td>></td>\n",
    "    <td>greater than</td> \n",
    "  </tr>\n",
    "  <tr>\n",
    "    <td><</td>\n",
    "    <td>less than</td> \n",
    "  </tr>\n",
    "  <tr>\n",
    "    <td>>=</td>\n",
    "    <td>greater than ot equals</td> \n",
    "  </tr>\n",
    "    <tr>\n",
    "    <td><=</td>\n",
    "    <td>less then or equals</td> \n",
    "  </tr>\n",
    "  <tr>\n",
    "    <td>!=</td>\n",
    "    <td>not equal to</td> \n",
    "  </tr>\n",
    "  <tr>\n",
    "    <td><></td>\n",
    "    <td>Not equal to (although <> is being deprecated)</td> \n",
    "  </tr>\n",
    "    <tr>\n",
    "    <td>is</td>\n",
    "    <td>test an objects identity. a is b is true if a is b. with some things this is the same as a == b. Try it out with a simple example</td> \n",
    "  </tr>\n",
    "  <tr>\n",
    "    <td>is not</td>\n",
    "    <td>The opposite of is. Again try a simple example</td> \n",
    "  </tr>\n",
    "</table>\n",
    "\n",
    "\n",
    "For example:\n",
    "\n"
   ]
  },
  {
   "cell_type": "code",
   "execution_count": 12,
   "metadata": {},
   "outputs": [
    {
     "name": "stdout",
     "output_type": "stream",
     "text": [
      "You're neither Bob nor Karl. You are Jenny\n",
      "Welcome\n"
     ]
    }
   ],
   "source": [
    "name = \"Jenny\"\n",
    "if name == \"Bob\":\n",
    "    print(\"You're Robert!\")\n",
    "\n",
    "elif name == \"Karl\":\n",
    "    print(\"You're Karl!\")\n",
    "\n",
    "else:\n",
    "    print(\"You're neither Bob nor Karl. You are\", name)\n",
    "print(\"Welcome\")"
   ]
  },
  {
   "cell_type": "markdown",
   "metadata": {},
   "source": [
    "**Read through the above example line by line. What will this cell output? What if you change the first line to say name = \"Bob\" or \"Karl\"?**\n",
    "If you are unsure about this, the example is explained step-by-step below. As always, feel free to reach out to a demonstrator if you need help.\n",
    "\n",
    "\n",
    "*Explanation:*\n",
    "Going through this step by step, let us assume the name is “Jenny”. The interpreter, upon reaching line 1, will evaluate: \"Jenny\" == \"Bob\", which is False, and then progress to the next else or elif statement, in this case line 4. The interpreter will now evaluate \"Jenny\" == \"Karl\", which is False, and the interpreter progresses to the next else or elif statement, in this case line 7, the else part of the code, and it will execute the contents of line 8. The interpreter has now finished with the if-elif-else structure and progresses to the next line, line 9.\n",
    "\n",
    "Instead, if the name was “Bob”, the condition on line 1 would evaluate to True, the indented code on line 2 would be executed, and the interpreter would exit the if-elif-else structure, and progress directly to line 9.\n",
    "\n",
    "Strictly speaking, the number of indent characters doesn’t matter as long as it is consistent, and it is even possible to use tab characters instead of spaces, but the convention is 4 spaces per indent. Deviating from the convention can lead to compatibility problems down the line. Mixing tabs and spaces results in very hard to debug code. Good code-oriented text editors will input 4 spaces when you push the tab key on your keyboard.\n",
    "\n"
   ]
  },
  {
   "cell_type": "markdown",
   "metadata": {},
   "source": [
    "<div style=\"background-color: #3DB6FC\">\n",
    "<b>Summary</b> - Double click on this cell to edit the text and summarise what you found in the section above.</div>\n",
    "\n",
    "\n",
    "I found out...\n"
   ]
  },
  {
   "cell_type": "markdown",
   "metadata": {},
   "source": [
    "# 6. Loops"
   ]
  },
  {
   "cell_type": "markdown",
   "metadata": {},
   "source": [
    "Just like it is at times insufficient or inefficient to name individual pieces of data when you could store them as one list, it is sometimes inefficient to write programs that execute every line exactly once. \n",
    "\n",
    "If you wish to print a string a thousand times, you would not use a thousand print statements - rather, there needs to be a way of telling the computer to execute one print statement a set number of times. This concept is called a loop. Python, like most programming languages, contains several control-flow structures that allow you to repeat several instructions (a loop), or only execute several lines if certain conditions are true (if statement), or even delay the execution of some code until later (functions, methods). Two (simple) examples:\n",
    "\n",
    "``` python\n",
    "counter = 0\n",
    "while counter < 4:\n",
    "    print(\"Hello\")\n",
    "    counter = counter + 1\n",
    "```\n",
    "---\n",
    "```python\n",
    "print(\"World!\")\n",
    "students = [\"Dan\", \"Megumi\", \"Louise\"]\n",
    "for student in students:             # note singular and plural\n",
    "    print(student, \"has broken the laws of physics!\")\n",
    "    \n",
    "```\n",
    "**Try these two examples in the code cells below and see if you can understand what they are doing. Remember, when entering these the indentation is important.**"
   ]
  },
  {
   "cell_type": "code",
   "execution_count": null,
   "metadata": {},
   "outputs": [],
   "source": []
  },
  {
   "cell_type": "markdown",
   "metadata": {},
   "source": [
    "<div style=\"background-color: #3DB6FC\">\n",
    "<b>Summary</b> - Double click on this cell to edit the text and summarise what you found in the section above.</div>\n",
    "\n",
    "\n",
    "I found out...\n"
   ]
  },
  {
   "cell_type": "markdown",
   "metadata": {},
   "source": [
    "### 5.5. Loops: for\n",
    "One particular programming pattern that crops up very frequently is the need to process or alter every element in a sequence of items, such as a list. For loops are useful for this purpose. A for loop iterate over the items in a sequence, in the order they appear in the sequence, executing the same piece of code for each item. The syntax of a for a loop is:\n",
    "```python\n",
    "for a_name in a_list:\n",
    "    loop code block\n",
    "    loop code block\n",
    "    loop code block\n",
    "```\n",
    "When the for loop is run, the first item in the sequence is assigned to a_name and the code block is executed. Then the next item in the sequence is assigned to a_name and the code block executed again and so on until are no more items are left. A couple of examples:\n",
    "```python\n",
    "names = [\"Eliza\", \"Johann\", \"Alice\"]\n",
    "\n",
    "for person in names:\n",
    "    print(person)\n",
    "```\n",
    "---\n",
    "\n",
    "```python\n",
    "for current_number in [0,1,2,3,4,5]:\n",
    "    print(\"The current number is:\")\n",
    "    print(current_number)\n",
    "```\n",
    "<b>Run the above examples in the code cells below (cut and paste them.) Do you get what you expect? What happens if you change the order of the items in the list? Can you run for loops on any other sequences (for example try using a tuple or a string instead of a list.)</b>"
   ]
  },
  {
   "cell_type": "code",
   "execution_count": null,
   "metadata": {},
   "outputs": [],
   "source": []
  },
  {
   "cell_type": "markdown",
   "metadata": {},
   "source": [
    "### 5.3. Loops: while\n",
    "A while loop has a condition like an if-statement, but instead of progressing to the next line once the indented block has been executed, the interpreter evaluates the condition again and, if it is still True, evaluates the indented code block again. If the condition never changes to False, the loop will be executed forever, or until explicitly executed with the break keyword which executes the current loop and progresses to the next line after the loop. (the continue keyword also stops the current loop execution, but goes back to the condition and evaluates it again, possibly executing the loop again)<br>\n",
    "\n",
    "General schema:\n",
    "```python\n",
    "while condition:\n",
    "    loop code block\n",
    "    loop code block\n",
    "    loop code block\n",
    "    \n",
    "```\n",
    "and a specific example:\n",
    "\n",
    "```python\n",
    "i = 0\n",
    "while i < 10:\n",
    "    i += 1\n",
    "    print(\"this line will be printed 10 times \",i)\n",
    "\n",
    "```\n",
    "Use of the break keyword:\n",
    "```python\n",
    "i = 0\n",
    "while 1 == 1:   # forever!\n",
    "    print(i)\n",
    "    if i > 10:\n",
    "        break\n",
    "    i = i + 1\n",
    "\n",
    "print(\"the end\")\n",
    "```\n",
    "This while loop should run forever, because the condition is always true, 1 is always equal to 1. However, the body of the loop has an if statement that executes if i gets bigger then ten. The code to be executed when that condition becomes true is break, the keyword that stops the loop and progresses to the next line after the loop, the print statement.<br>\n",
    "\n",
    "<b>The first 10 numbers of the Fibonacci sequence are:<br>\n",
    "0, 1, 1, 2, 3, 5, 8, 13, 21, 34 <br>\n",
    "\n",
    "The sequence is generated from the first two numbers (0 and 1), and every subsequent number is the sum of the previous two numbers. Find the largest number in the Fibonacci series below $10^{22}$ and how many terms that you have had to calculate to reach it.</b>"
   ]
  },
  {
   "cell_type": "code",
   "execution_count": null,
   "metadata": {},
   "outputs": [],
   "source": []
  },
  {
   "cell_type": "markdown",
   "metadata": {},
   "source": [
    "### 5.6. Loops: range\n",
    "A common requirement is to loop over a range of integers. The built-in function range generates a list with integers counting upwards from zero to (but not including) the argument if you call it with one argument, or a list that counts upwards from the first argument to (but not including) the second argument if you call it with two arguments, or goes up in steps of argument 3 if you give it three arguments:\n",
    "```python\n",
    ">>> list(range(4))\n",
    "[0, 1, 2, 3]\n",
    ">>> list(range(2,5))\n",
    "[2, 3, 4]\n",
    ">>> list(range(10,20,2))\n",
    "[10, 12, 14, 16, 18]\n",
    ">>> for i in range(5):\n",
    "        print(i, \" \", i*i, \" \", i*i*i)\n",
    "\n",
    "0   0   0\n",
    "1   1   1\n",
    "2   4   8\n",
    "3   9   27\n",
    "4   16   64\n",
    "```\n",
    "<div style=\"background-color: #FFF8C6\">\n",
    "<b>(Slightly more challenging and only if you have spare time) Make a list containing all positive integers up to 1000 whose squares can be expressed as a sum of two squares, (i,e., integers $p$ for which $p^2=m^2+n^2$, where $m$ and $n$ are integers greater than 0.)<br>\n",
    "Hints: There are several approaches. You might find it helpful to have a list of all the square numbers. The in operator might be useful.\n",
    "</b>\n",
    "<br>"
   ]
  },
  {
   "cell_type": "code",
   "execution_count": null,
   "metadata": {},
   "outputs": [],
   "source": []
  },
  {
   "cell_type": "markdown",
   "metadata": {},
   "source": [
    "<div style=\"background-color: #FFF8C6\">\n",
    "\n",
    "### Loops: list comprehensions<br>\n",
    "Another Python construct that is used very frequently is the list comprehension, a method of filtering and editing lists. You can think of it as a special for loop in which every item in a list is considered one by one, and a new list is built up from the results. This construct has a slightly different format from the Python code that went before:<br>\n",
    "```python\n",
    "singles = [1,2,3,4,5]\n",
    "\n",
    "# list comprehension 1:\n",
    "doubles = [x*2 for x in singles] # doubles is now [2,4,6,8,10]\n",
    "\n",
    "# list comprehension 2:\n",
    "filtered = [x*2 for x in singles if x>2] # filtered is now [6,8,10]\n",
    "```\n",
    "<br>\n",
    "Try the above examples in a terminal and see if you can figure out how they work.\n",
    "<br>\n",
    "The format is:\n",
    "<br>\n",
    "\n",
    "```python\n",
    "new_list = [expression for name in original_list if condition]\n",
    "```\n",
    "\n",
    "<br>\n",
    "the for name in original_list functions just like in a for loop, iterating through each element in the original_list in turn, and giving it the name name. The expression describes how the new list is to be built, and the optional if condition decides whether or not to keep an element at all. These list comprehensions could be written as normal for loops, like:<br>\n",
    "\n",
    "```python\n",
    "singles = [1,2,3,4,5]\n",
    "doubles = []\n",
    "for x in singles:\n",
    "    doubles.append(x*2)     # this appends x*2 to the end of the list\n",
    "doubles\n",
    "\n",
    "\n",
    "filtered = []\n",
    "for x in singles:\n",
    "    if x>2:\n",
    "        filtered.append(x*2)\n",
    "```\n",
    "<br>\n",
    "append is one of the functions that lists have. It adds an element to the end of the list.\n",
    "<br>\n",
    "<br>\n",
    "<b>\n",
    "Create the following list of integers (cut and paste):<br>\n",
    "    \n",
    "```python\n",
    "x = [86, 98, 48, 42, 53, 88, 46, 21, 26, 92, 12, 25, 23, 2, 7]\n",
    "```\n",
    "<br>\n",
    "Write a list comprehension that loops over the list, and produces a list of square roots of each even integer.<br>\n",
    "Hint:<br>\n",
    "The modulus operator % calculates the remainder when you divide two numbers, e.g.,:<br>\n",
    "\n",
    "```python\n",
    ">>> 10%3 # 9 would divide evenly, 10 has one left over\n",
    "1\n",
    ">>> 11%3 # 9 would divide evenly, 11 has two left over\n",
    "2\n",
    ">>> 12%3 # 12 divides evenly, 0 left over\n",
    "0\n",
    "```\n",
    "</b>\n",
    "\n",
    "<br>"
   ]
  },
  {
   "cell_type": "markdown",
   "metadata": {},
   "source": [
    "# 6. Functions\n",
    "It is often necessary to perform the same tasks again and again on different data. Vector addition is a good example of this. If you have two lists or tuples representing 3d vectors (A and B) that you wish to add. In Python, the process would be:\n",
    "\n",
    "```python\n",
    "A = [1,-3,2]\n",
    "B = [3,3,-1]\n",
    "\n",
    "C = A[0]+B[0], A[1]+B[1], A[2]+B[2]\n",
    "```\n",
    "This process may have to be repeated for thousands of different vectors, and having to type line 4 again and again each time would be very tedious. Functions address this problem.\n",
    "\n",
    "Functions are particular pieces of code that perform a particular task. When the main program requires this task to be done, it calls the function, providing it with the data the function needs to do its task (called arguments), and waits for the function to execute. The function does it’s task, possibly provides the main program with an answer (called return value), and then the main program resumes where it left off.\n",
    "\n",
    "In this example, the main program calls the built-in function len, which takes a list or tuple and counts the number of items in it, and returns it:\n",
    "\n",
    "```python\n",
    "A = [3,1,6,3,4,67,8,9,33]\n",
    "B = len(A)\n",
    "print(B)                     # prints 9\n",
    "```\n",
    "Here on line 2, the Python interpreter finds the place where the len function is defined, gives it the list A as an argument, and waits for the function to execute. After it has finished counting, the len function returns the result, 9. The main program then assigns that value the name B, then continues.\n",
    "\n",
    "Functions can take any number of different arguments of different types and can return different types of values For example The range function we used above takes a variable number of arguments and returns a list.\n",
    "\n",
    "We can define our own function, the syntax for which is:\n",
    "```python\n",
    "def function_name(arg1, arg2):  # as with all code blocks, there's a colon!\n",
    "    function code block\n",
    "    function code block\n",
    "    function code block\n",
    "    return optional_return_value\n",
    "```\n",
    "\n",
    "This function is called by its name, function_name, it expects 2 arguments, and returns optional_return_value. For a more specific example, let’s go back to our vector addition problem:\n",
    "```python\n",
    "\n",
    "def add_vectors(vector1, vector2):\n",
    "    return [vector1[0]+vector2[0], vector1[1]+vector2[1], vector1[2]+vector2[2]]\n",
    "\n",
    "A = [1,-3,2]\n",
    "B = [3,3,-1]\n",
    "\n",
    "C = add_vectors(A,B)\n",
    "```\n",
    "\n",
    "The function definition consists of the keyword def which indicates a function definition is following, the arguments in parentheses, a colon, (in this case) a single line of indented code. The indented code consists of the return keyword, which means “take the following value and return it to the point where the function was called”, and a tuple, with implied brackets, made from 3 sums.\n",
    "\n",
    "The function call takes the values of A and B (which are the lists!), and passes them as arguments to the add_vectors function. The names outside the function are not important, the function assigns these values the names vector1 and vector2. It does its calculation, crating a 3 element tuple with the result. It returns this value back to where the function was called, where the value gets assigned the name “C”.\n",
    "\n",
    "Functions can be written to deal with any number of arguments, as well as optional arguments:\n",
    "```python\n",
    "def print_multiple(what, how_many_times=2):\n",
    "    for i in range(how_many_times):\n",
    "        print(what)\n",
    "\n",
    "print_multiple(\"Hello\")\n",
    "print_multiple(\"Bye\",3)\n",
    "prints:\n",
    "\n",
    "Hello\n",
    "Hello\n",
    "Bye\n",
    "Bye\n",
    "Bye\n",
    "```\n",
    "\n",
    "<b>\n",
    "Rewrite the Fibonaci series code  using a function. Write it with a single calling arguement and return the largest Fibonaci number below that number. \n",
    "</b>"
   ]
  },
  {
   "cell_type": "code",
   "execution_count": null,
   "metadata": {},
   "outputs": [],
   "source": []
  },
  {
   "cell_type": "markdown",
   "metadata": {},
   "source": [
    "<div style=\"background-color: #FFF8C6\">\n",
    "\n",
    "### Namespaces\n",
    "Often, functions are written use generic variable names to do generic jobs. As in the print_multiple function before, i is a frequently used name for an integer counter. Does this mean that you can now not use i in any other part of your program for fear of it being overwritten when this function is called? The answer to that question is no. Let’s have a look at why.\n",
    "<br>\n",
    "Every Python object (values, functions, ...) has a “namespace” associated with it, a slightly abstract concept describing a container of names. Every time you give a name to a value, that name is stored in the namespace of the object that is executing code. If you’re just in a regular Python module (file), the namespace used is the module’s namespace. If you’re executing code inside a function, the name is put in a namespace for that function call. Namespaces are created (and deleted) at different times during the program’s lifetime.\n",
    "<br>\n",
    "When you refer to a name, Python does not check all namespaces. The local namespace is checked first – that is, if you are referring to a name inside of a function, that function call’s local namespace is searched for the name first. If successful, that name’s value is used. If the local namespace does not contain the name, Python searches the module’s namespace, but not the namespaces of other functions. If this is also unsuccessful, the built-in names are searched. If none of these provides a result, the program raises an Exception.\n",
    "<br>\n",
    "\n",
    "```python\n",
    "i = \"start\"\n",
    "\n",
    "def count_to_three():\n",
    "    for i in range(3):\n",
    "        print(i)\n",
    "\n",
    "print(i)\n",
    "\n",
    "i = \"middle\"\n",
    "\n",
    "count_to_three()\n",
    "\n",
    "print(i)\n",
    "```\n",
    "<br>\n",
    "prints:\n",
    "<br>\n",
    "\n",
    "```\n",
    "start\n",
    "0\n",
    "1\n",
    "2\n",
    "middle\n",
    "```\n",
    "<br>"
   ]
  },
  {
   "cell_type": "markdown",
   "metadata": {},
   "source": [
    "# 8. Importing modules\n",
    "Python modules are essentially collections of useful Python code or functionality. Python has a large standard library of modules available to work with by default, and the Enthought Python distribution ships with many more science oriented modules.\n",
    "\n",
    "The functionality of these modules can be made available to your program by importing whole modules, or parts of modules at a time:\n",
    "```python\n",
    ">>>import random  # imports the entire random module, into the local namespace, inc attributes\n",
    ">>> random.randint(0,10)\n",
    "7\n",
    ">>> random.randint(0,10)\n",
    "4\n",
    ">>> from random import randint  # imports only the randint function\n",
    ">>> randint(0,10)\n",
    "5\n",
    "```\n",
    "You can also rename a module as you import it using as. So you will often see examples such as the following:\n",
    "\n",
    "```python\n",
    ">>> import numpy as np\n",
    ">>> np.log(10.0)\n",
    "2.3025850929940459\n",
    "```\n",
    "This imports the module numpy but makes it available under the name np.\n",
    "\n",
    "<b>Create a list of 10 Gaussian random numbers with mean 0.0, and standard deviation 1.0. (Hint: google.)</b><br>\n",
    "Lists of modules are available in the Python documentation.\n",
    "\n"
   ]
  },
  {
   "cell_type": "code",
   "execution_count": null,
   "metadata": {},
   "outputs": [],
   "source": []
  },
  {
   "cell_type": "markdown",
   "metadata": {},
   "source": [
    "  \n",
    "  "
   ]
  }
 ],
 "metadata": {
  "kernelspec": {
   "display_name": "Python 3",
   "language": "python",
   "name": "python3"
  },
  "language_info": {
   "codemirror_mode": {
    "name": "ipython",
    "version": 3
   },
   "file_extension": ".py",
   "mimetype": "text/x-python",
   "name": "python",
   "nbconvert_exporter": "python",
   "pygments_lexer": "ipython3",
   "version": "3.8.5"
  }
 },
 "nbformat": 4,
 "nbformat_minor": 4
}
