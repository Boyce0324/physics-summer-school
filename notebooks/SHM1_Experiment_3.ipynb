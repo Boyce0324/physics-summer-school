{
 "cells": [
  {
   "cell_type": "markdown",
   "metadata": {},
   "source": [
    "# Simple Harmonic Oscillators (part 1.)\n",
    "\n",
    "Consider a mass attached to a spring lying on a frictionless surface as shown in the figure. "
   ]
  },
  {
   "cell_type": "markdown",
   "metadata": {},
   "source": [
    "![basic shm](images/SHM.svg)</br>"
   ]
  },
  {
   "cell_type": "markdown",
   "metadata": {},
   "source": [
    "\n",
    "\n",
    "\n",
    "The resotoring force on the mass is directly proportional to the extension of the spring so :\n",
    "\n",
    "$$\n",
    "m\\frac{d^2x}{dt^2}=-kx\n",
    "$$\n",
    "\n",
    "Where $k$ is the spring constant for that spring.\n",
    "\n",
    "This can be rewritten as \n",
    "\n",
    "$$\n",
    "\\frac{d^2x}{dt^2} = - \\omega^2 x\n",
    "$$\n",
    "\n",
    "where $\\omega= \\sqrt{k/m}$\n",
    "\n",
    "\n",
    "**Write this second order differentional equation as a series of first order differential equations in the box below.**"
   ]
  },
  {
   "cell_type": "code",
   "execution_count": null,
   "metadata": {},
   "outputs": [],
   "source": []
  },
  {
   "cell_type": "markdown",
   "metadata": {},
   "source": [
    "**Now write a simulation of a similar system with a spring constant $18Nm^{-1}$ and a mass of 0.5 Kg. Plot both the position and the velocity of the mass if intitally you extend the spring by 10cm. Run your simulation for 10s. You should think about what is happening to the energy in this system**"
   ]
  },
  {
   "cell_type": "code",
   "execution_count": null,
   "metadata": {},
   "outputs": [],
   "source": []
  },
  {
   "cell_type": "markdown",
   "metadata": {},
   "source": [
    "## Damped Oscillators\n",
    "Now you replace the frictionless surface with different surfaces with different amounts of friction. However in each case the friction is proportional to the velocity so the equation of motion becomes:\n",
    "\n",
    "$$\n",
    "m\\frac{d^2x}{dt^2} +b\\frac{dx}{dt} +k x=0\n",
    "$$\n",
    "\n",
    "where b is a constant for the particular surface.\n",
    "This is often written as:\n",
    "\n",
    "$$\n",
    "\\frac{d^2x}{dt^2} +\\gamma\\frac{dx}{dt}+  \\omega^2 x =0\n",
    "$$\n",
    "\n",
    "**Modify your simulations to include this damping. Investigate how the motion changes with different values of $b$. Specifically, try values of $b$ that are less than 6, $b=6$ and values for $b$ that are much greater than 6. You should try to describe what you see and decide whether or not the motion is oscillatory or not. Keep the plots as they may be useful in your presentation. You should think about what is happening to the energy in this system**\n"
   ]
  },
  {
   "cell_type": "code",
   "execution_count": null,
   "metadata": {},
   "outputs": [],
   "source": []
  },
  {
   "cell_type": "markdown",
   "metadata": {},
   "source": [
    "---\n",
    "## Experiment 3\n",
    "\n",
    "Your pendulum experiments in real life act as damped oscillators. Think about what the source of this damping might be?\n",
    "This experiment will have you determine the damping coefficient $b$ (or $\\gamma = \\frac{b}{2m}$) of your pendulum.\n",
    "\n",
    "As before we require you to make as precise measurements as you can. We will not be measuring `b` directly but\n",
    "rather extracting it from a fit to your data."
   ]
  },
  {
   "cell_type": "markdown",
   "metadata": {},
   "source": [
    "## 3.1 Setting up the environment\n",
    "Firstly we will import the packages we will need in this notebook."
   ]
  },
  {
   "cell_type": "code",
   "execution_count": 1,
   "metadata": {},
   "outputs": [],
   "source": [
    "import numpy as np\n",
    "import scipy.stats as sps\n",
    "import scipy.optimize as spo\n",
    "import matplotlib.pyplot as plt\n",
    "import physics_summer_school as pss"
   ]
  },
  {
   "cell_type": "markdown",
   "metadata": {},
   "source": [
    "\n",
    "Since we will be extracting `b` from a fit to our data we need to think carefully about what data we should be recording. You are free to approach the experiment however you wish and you are encouraged to innovate as necessary.\n",
    "\n",
    "In previous experiments we have either ignored any uncertainties in the independent variable ($x$-axis quantity) or used the systematic uncertainty of the measuring instrument only. In this experiment we can do similarly by considering the independent variable in terms of the number of periods. We can create a spreadsheet for this approact using the `pss.sheet_exp3A()` function. This function takes two parameters:\n",
    "* `n_periods`: This is the number of periods that you will be measuring\n",
    "* `n_repeats`: How many times you will repeat the measurement for this period.\n",
    "\n",
    "Alternatively for this experiment you could consider measuring the independent variable in absolute terms. This would mean that you could have statistical uncertainites associated with both the $x$ and $y$ axes. We can create a spreadsheet for this approact using the `pss.sheet_exp3B()` function. This function takes a single parameters:\n",
    "\n",
    " * `n_readings`: This is the number time, amplitude readings that you will take.\n",
    " \n",
    "If these pre-made sheets do not cover your use case then you can create your own custom sheet using:\n",
    "`pss.create_sheet(rows=?, columns=?)` and pick your own layout by replacing the `?` with whatever you desire.\n",
    "\n",
    "**Note: When you need to load a custom sheet you should use the `pss.load_sheet()` function rather than `pss.load_exp3A()` or `pss.load_exp3B()`**"
   ]
  },
  {
   "cell_type": "code",
   "execution_count": null,
   "metadata": {},
   "outputs": [],
   "source": [
    "# Un/comment out as necessary\n",
    "sheet3 = pss.sheet_exp3A(n_periods=4, n_repeats=4)\n",
    "# sheet3 = pss.sheet_exp3B(n_readings=5)\n",
    "# sheet3 = pss.create_sheet(rows=?, columns=?)\n",
    "sheet3"
   ]
  },
  {
   "cell_type": "markdown",
   "metadata": {},
   "source": [
    "## 3.2 Conduct the experiment\n",
    "\n",
    "Now you should go ahead and conduct the experiment. Remember to try and make the most precise measurements that you can. You are free to approach the experiment however you wish and you are encouraged to innovate as necessary. When considering how to approach this experiment it is useful to recall the following two equations from the lectures."
   ]
  },
  {
   "cell_type": "markdown",
   "metadata": {},
   "source": [
    "\n",
    "\n",
    "$$\n",
    "\\begin{aligned}\n",
    "A(t) &= A_0e^{-\\frac{bt}{2m}}\\\\\n",
    "x(t) &= A(t)\\cos{(\\omega t + \\phi)} = A_0e^{-\\frac{bt}{2m}}\\cos{(\\omega t + \\phi)}\\\\\n",
    "\\end{aligned}\n",
    "$$\n"
   ]
  },
  {
   "cell_type": "markdown",
   "metadata": {},
   "source": [
    "\n",
    "**remember to input your measured values directly into the cells of the spreadsheet above. Note that you will need to either click off a cell (or press enter) after putting in your value for it to be properly updated.**\n",
    "\n",
    "Once you are done, the next step is to save the date to a persistent storage medium like the your USB stick. Do this by using the `save()` method of your sheet."
   ]
  },
  {
   "cell_type": "code",
   "execution_count": null,
   "metadata": {},
   "outputs": [],
   "source": [
    "sheet3.save()"
   ]
  },
  {
   "cell_type": "markdown",
   "metadata": {},
   "source": [
    "## 3.3 Data analysis\n",
    "\n",
    "As before, we will start by loading the data we just saved. To do this we will use either the `pss.load_exp3A()` or `pss.load_exp3B()` functions.\n",
    "\n",
    "**Note if you created your own custom sheet above with `pss.create_sheet()` then you must use `pss.load_sheet()` instead**"
   ]
  },
  {
   "cell_type": "code",
   "execution_count": null,
   "metadata": {},
   "outputs": [],
   "source": [
    "# Un/comment out as necessary\n",
    "sheet3 = pss.load_exp3A()\n",
    "# sheet3 = pss.load_exp3B()\n",
    "# sheet3 = pss.load_sheet()\n",
    "sheet3"
   ]
  },
  {
   "cell_type": "markdown",
   "metadata": {},
   "source": [
    "and again we will get the data into a format that we can work with, like numpy using the `to_array()` method."
   ]
  },
  {
   "cell_type": "code",
   "execution_count": null,
   "metadata": {},
   "outputs": [],
   "source": [
    "data3 = sheet3.to_array()\n",
    "data3"
   ]
  },
  {
   "cell_type": "markdown",
   "metadata": {},
   "source": [
    "### 3.3.1 Plotting you data\n",
    "\n",
    "Now we are going to plot your data using matplotlib. Your plot should have the following:\n",
    "* data points **with error bars**\n",
    "* both x and y labels **with units**\n",
    "* title"
   ]
  },
  {
   "cell_type": "code",
   "execution_count": null,
   "metadata": {},
   "outputs": [],
   "source": []
  },
  {
   "cell_type": "markdown",
   "metadata": {},
   "source": [
    "### 3.3.2 Fitting your data\n",
    "\n",
    "Now that we have our data points plotted, let's try and fit them. Before this can be done, we should be able to answre the following:\n",
    "* What would be the correct function to fit this data?\n",
    "**(recall the useful formulae mentioned earlier when choosing what data to record)**\n",
    "$$\n",
    "\\begin{aligned}\n",
    "A(t) &= A_0e^{-\\frac{bt}{2m}}\\\\\n",
    "x(t) &= A(t)\\cos{(\\omega t + \\phi)} = A_0e^{-\\frac{bt}{2m}}\\cos{(\\omega t + \\phi)}\\\\\n",
    "\\end{aligned}\n",
    "$$\n",
    "\n",
    "* What do the parameters of the fit signify?\n",
    "\n",
    "\n",
    "With the answers to the above in mind, we can once again use the `spo.curve_fit()` function to fit your data."
   ]
  },
  {
   "cell_type": "code",
   "execution_count": null,
   "metadata": {},
   "outputs": [],
   "source": []
  },
  {
   "cell_type": "markdown",
   "metadata": {},
   "source": [
    "With your fit complete, print our the best fit values for the parameters **along with their errors**"
   ]
  },
  {
   "cell_type": "code",
   "execution_count": null,
   "metadata": {},
   "outputs": [],
   "source": []
  },
  {
   "cell_type": "markdown",
   "metadata": {},
   "source": [
    "Now lets plot your data along with your fit on a single canvas. **Don't forget the legend**"
   ]
  },
  {
   "cell_type": "code",
   "execution_count": null,
   "metadata": {},
   "outputs": [],
   "source": []
  }
 ],
 "metadata": {
  "kernelspec": {
   "display_name": "Python 3 (ipykernel)",
   "language": "python",
   "name": "python3"
  },
  "language_info": {
   "codemirror_mode": {
    "name": "ipython",
    "version": 3
   },
   "file_extension": ".py",
   "mimetype": "text/x-python",
   "name": "python",
   "nbconvert_exporter": "python",
   "pygments_lexer": "ipython3",
   "version": "3.12.4"
  },
  "vscode": {
   "interpreter": {
    "hash": "f3245ed5f1a73a112821c8e0f0774d51da2e0b158274f0cc4946941fd8b74480"
   }
  }
 },
 "nbformat": 4,
 "nbformat_minor": 4
}
