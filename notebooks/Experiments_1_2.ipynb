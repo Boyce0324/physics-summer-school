{
 "cells": [
  {
   "cell_type": "markdown",
   "id": "b22ae946",
   "metadata": {},
   "source": [
    "# 1. Experiment 1"
   ]
  },
  {
   "cell_type": "markdown",
   "id": "21ce71ee",
   "metadata": {},
   "source": [
    "Investigation of the mass dependence of a pendulum's oscillation period.\n",
    "\n",
    "For this experiment we require you to make the most precise measurements possible. To this end We recommend that you record multiple swings and repeat for each mass.\n",
    "\n",
    "First we will import the module that will allow use to create a spreadsheet that we can use to record our data."
   ]
  },
  {
   "cell_type": "markdown",
   "id": "8ece87bb",
   "metadata": {},
   "source": [
    "## 1.1 Setting up data collection environment."
   ]
  },
  {
   "cell_type": "markdown",
   "id": "225d226d",
   "metadata": {},
   "source": [
    "Firstly we will import the packages we will need in this notebook."
   ]
  },
  {
   "cell_type": "code",
   "execution_count": 1,
   "id": "392d5764",
   "metadata": {},
   "outputs": [],
   "source": [
    "import numpy as np\n",
    "import scipy.stats as sps\n",
    "import scipy.optimize as spo\n",
    "import matplotlib.pyplot as plt\n",
    "import physics_summer_school as pss"
   ]
  },
  {
   "cell_type": "markdown",
   "id": "bde95c0c",
   "metadata": {},
   "source": [
    " Now let's create our spreadsheet using the `pss.sheet_exp1()` function (see below). Note that this function takes two parameters:\n",
    " * `n_masses`: This is the number of masses that you intend to measure the period for.\n",
    " * `n_repeats`: How many times you will repeat the measurement\n",
    " \n",
    " You are free to change these numbers to suit how you will do your experiment however you will be required to do at least 3 masses."
   ]
  },
  {
   "cell_type": "code",
   "execution_count": null,
   "id": "8a67265f",
   "metadata": {},
   "outputs": [],
   "source": [
    "sheet1 = pss.sheet_exp1(n_masses=4, n_repeats=4)\n",
    "sheet1"
   ]
  },
  {
   "cell_type": "markdown",
   "id": "e00219e2",
   "metadata": {},
   "source": [
    "## 1.2 Conduct the experiment"
   ]
  },
  {
   "cell_type": "markdown",
   "id": "80729327",
   "metadata": {},
   "source": [
    "Now you should go ahead and conduct the experiment. Remember to try and make the most precise measurements that you can. You are free to approach the experiment however you wish and you are encouraged to innovate as necessary.\n",
    "\n",
    "**remember to input your measured values directly into the cells of the spreadsheet above. Note that you will need to either click off a cell (or press enter) after putting in your value for it to be properly updated.**\n",
    "\n",
    "Once you are done, the next step is to save the date to a persistent storage medium like the your USB stick. Do this by using the `save()` method of your sheet."
   ]
  },
  {
   "cell_type": "code",
   "execution_count": 5,
   "id": "20f92227",
   "metadata": {},
   "outputs": [],
   "source": [
    "sheet1.save()"
   ]
  },
  {
   "cell_type": "markdown",
   "id": "519cebbe",
   "metadata": {},
   "source": [
    "## 1.3 Data analysis\n",
    "\n",
    "The first step will be to load the data we just saved. Note, we could just use sheet1 from above however if we were to exit this notebook and load it again sheet1 would be empty just as it was when you started today. For this reason we will recreate it from the data we saved using `pss.load_exp1()`."
   ]
  },
  {
   "cell_type": "code",
   "execution_count": null,
   "id": "407da3a9",
   "metadata": {},
   "outputs": [],
   "source": [
    "sheet1 = pss.load_exp1()\n",
    "sheet1"
   ]
  },
  {
   "cell_type": "markdown",
   "id": "221e59b1",
   "metadata": {},
   "source": [
    "Now it is time to get the data into a format that we can work with, like numpy. To do this you can use the `to_array()` method."
   ]
  },
  {
   "cell_type": "code",
   "execution_count": null,
   "id": "3172b44a",
   "metadata": {},
   "outputs": [],
   "source": [
    "data1 = sheet1.to_array()\n",
    "data1"
   ]
  },
  {
   "cell_type": "markdown",
   "id": "5879b49a",
   "metadata": {},
   "source": [
    "### 1.3.1 Plotting you data\n",
    "\n",
    "Now we are going to plot your data using matplotlib. Your plot should have the following:\n",
    "* data points **with error bars**\n",
    "* both x and y labels **with units**\n",
    "* title"
   ]
  },
  {
   "cell_type": "code",
   "execution_count": null,
   "id": "5298a35a",
   "metadata": {},
   "outputs": [],
   "source": []
  },
  {
   "cell_type": "markdown",
   "id": "d6378716",
   "metadata": {},
   "source": [
    "### 1.3.2 Fitting your data\n",
    "\n",
    "Now that we have our data points plotted, let's try and fit them. Before this can be done, we should be able to answre the following:\n",
    "* What would be the correct function to fit this data?\n",
    "* What do the parameters of the fit signify?\n",
    "* what values of these parameters do we expect (should use as a starting point) from the lecture material?\n",
    "\n",
    "With the answers to the above in mind, we can use the [`spo.curve_fit()`](https://docs.scipy.org/doc/scipy/reference/generated/scipy.optimize.curve_fit.html) function which you learnt about this morning to fit your data."
   ]
  },
  {
   "cell_type": "code",
   "execution_count": null,
   "id": "fa8f90d8",
   "metadata": {},
   "outputs": [],
   "source": []
  },
  {
   "cell_type": "markdown",
   "id": "21702cff",
   "metadata": {},
   "source": [
    "With your fit complete, print our the best fit values for the parameters **along with their errors**"
   ]
  },
  {
   "cell_type": "code",
   "execution_count": null,
   "id": "362ffe08",
   "metadata": {},
   "outputs": [],
   "source": [
    "\n"
   ]
  },
  {
   "cell_type": "markdown",
   "id": "3a18fcdc",
   "metadata": {},
   "source": [
    "Finally, plot your data along with your fit on a single canvas. **Don't forget the legend**"
   ]
  },
  {
   "cell_type": "code",
   "execution_count": null,
   "id": "6f564e39",
   "metadata": {},
   "outputs": [],
   "source": []
  },
  {
   "cell_type": "markdown",
   "id": "c1550d2b",
   "metadata": {},
   "source": [
    "---\n",
    "# 2. Experiment 2\n",
    "\n",
    "This experiment will have you try to determine the best value possible for the acceleration due to gravity `g`.\n",
    "\n",
    "As before we require you to make as precise measurements as you can. We will not be measuring `g` directly but\n",
    "rather extracting it from a fit to your data."
   ]
  },
  {
   "cell_type": "markdown",
   "id": "e8dc3fb4",
   "metadata": {},
   "source": [
    "## 2.1 Setting up the environment\n",
    "\n",
    "Let's create our spreadsheet using the `pss.sheet_exp2()` function (see below). Note that this function takes two parameters:\n",
    " * `n_lengths`: This is the number of lengths that you intend to measure the period for.\n",
    " * `n_repeats`: How many times you will repeat the measurement\n",
    " \n",
    "You are free to change these numbers to suit how you will do your experiment however you will be required to do at least 3 lengths."
   ]
  },
  {
   "cell_type": "code",
   "execution_count": null,
   "id": "37853b17",
   "metadata": {},
   "outputs": [],
   "source": [
    "sheet2 = pss.sheet_exp2(n_lengths=4, n_repeats=4)\n",
    "sheet2"
   ]
  },
  {
   "cell_type": "markdown",
   "id": "df89c904",
   "metadata": {},
   "source": [
    "## 2.2 Conduct the experiment\n",
    "\n",
    "Now you should go ahead and conduct the experiment. Remember to try and make the most precise measurements that you can. You are free to approach the experiment however you wish and you are encouraged to innovate as necessary.\n",
    "\n",
    "**remember to input your measured values directly into the cells of the spreadsheet above. Note that you will need to either click off a cell (or press enter) after putting in your value for it to be properly updated.**\n",
    "\n",
    "Once you are done, the next step is to save the date to a persistent storage medium like the your USB stick. Do this by using the `save()` method of your sheet."
   ]
  },
  {
   "cell_type": "code",
   "execution_count": 11,
   "id": "e6d8f61f",
   "metadata": {},
   "outputs": [],
   "source": [
    "sheet2.save()"
   ]
  },
  {
   "cell_type": "markdown",
   "id": "f15739a7",
   "metadata": {},
   "source": [
    "## 2.3 Data analysis\n",
    "\n",
    "As before, we will start by loading the data we just saved. To do this we will use the `pss.load_exp2()` function."
   ]
  },
  {
   "cell_type": "code",
   "execution_count": null,
   "id": "bb516d26",
   "metadata": {},
   "outputs": [],
   "source": [
    "sheet2 = pss.load_exp2()\n",
    "sheet2"
   ]
  },
  {
   "cell_type": "markdown",
   "id": "ed573147",
   "metadata": {},
   "source": [
    "and again we will get the data into a format that we can work with, like numpy using the `to_array()` method."
   ]
  },
  {
   "cell_type": "code",
   "execution_count": null,
   "id": "5d35f940",
   "metadata": {},
   "outputs": [],
   "source": [
    "data2 = sheet2.to_array()\n",
    "data2"
   ]
  },
  {
   "cell_type": "markdown",
   "id": "2289f8c8",
   "metadata": {},
   "source": [
    "### 2.3.1 Plotting you data\n",
    "\n",
    "Now we are going to plot your data using matplotlib. Your plot should have the following:\n",
    "* data points **with error bars**\n",
    "* both x and y labels **with units**\n",
    "* title"
   ]
  },
  {
   "cell_type": "code",
   "execution_count": null,
   "id": "7379b982",
   "metadata": {},
   "outputs": [],
   "source": []
  },
  {
   "cell_type": "markdown",
   "id": "418bd5eb",
   "metadata": {},
   "source": [
    "### 2.3.2 Fitting your data\n",
    "\n",
    "Now that we have our data points plotted, let's try and fit them. Before this can be done, we should be able to answre the following:\n",
    "* What would be the correct function to fit this data? **recall from your lectures**\n",
    "$$\n",
    "T = 2 \\pi \\sqrt{\\frac{L}{g}}\n",
    "$$\n",
    "* What do the parameters of the fit signify?\n",
    "* what values of these parameters do we expect (should use as a starting point) from the lecture material?\n",
    "\n",
    "\n",
    "With the answers to the above in mind, we can use the `spo.curve_fit()` function which you learnt about this morning to fit your data."
   ]
  },
  {
   "cell_type": "code",
   "execution_count": null,
   "id": "c4625f5f",
   "metadata": {},
   "outputs": [],
   "source": []
  },
  {
   "cell_type": "markdown",
   "id": "d0eafa40",
   "metadata": {},
   "source": [
    "With your fit complete, print our the best fit values for the parameters **along with their errors**"
   ]
  },
  {
   "cell_type": "code",
   "execution_count": null,
   "id": "9bb4dce4",
   "metadata": {},
   "outputs": [],
   "source": []
  },
  {
   "cell_type": "markdown",
   "id": "9c105e31",
   "metadata": {},
   "source": [
    "Now lets plot your data along with your fit on a single canvas. **Don't forget the legend**"
   ]
  },
  {
   "cell_type": "code",
   "execution_count": null,
   "id": "b1db3f2f",
   "metadata": {},
   "outputs": [],
   "source": []
  },
  {
   "cell_type": "markdown",
   "id": "44315806",
   "metadata": {},
   "source": [
    "---\n",
    "## 2.4 Damped extension\n",
    "\n",
    "We can go one step further and realise that in the real world our pendulum is a damped oscillator. This means that the angular frequency $\\omega$ undergoes\n",
    "a slight modification.\n",
    "\n",
    "$$\n",
    "\\omega = \\sqrt{\\omega_0^2 - \\left(\\frac{b}{2m}\\right)^2}\n",
    "$$\n",
    "\n",
    "where $\\gamma = \\frac{b}{2m}$ (or just $b$) is the damping coefficient. We can use this along with the natural frequency $\\omega_0$ from the theory to add the effects of damping into our model."
   ]
  },
  {
   "cell_type": "markdown",
   "id": "d58dd032",
   "metadata": {},
   "source": [
    "### 2.4.1 Fitting the data\n",
    "\n",
    "We will refit the data from this experiment, this time using our updated model to include the effects of natural damping.\n",
    "We will once again be using the `spo.curve_fit()` function to fit the data. This time we will allow the damping coefficient $b$ to be a\n",
    "floating parameter of the fit."
   ]
  },
  {
   "cell_type": "code",
   "execution_count": null,
   "id": "9c1a1978",
   "metadata": {},
   "outputs": [],
   "source": []
  },
  {
   "cell_type": "markdown",
   "id": "f9a7b386",
   "metadata": {},
   "source": [
    "With your fit complete, print our the best fit values for the parameters **along with their errors**"
   ]
  },
  {
   "cell_type": "code",
   "execution_count": null,
   "id": "d404f67d",
   "metadata": {},
   "outputs": [],
   "source": []
  },
  {
   "cell_type": "markdown",
   "id": "31663c02",
   "metadata": {},
   "source": [
    "Now lets plot your data along with both your non-damped and damped fits on a single canvas. **Don't forget the legend**"
   ]
  },
  {
   "cell_type": "code",
   "execution_count": null,
   "id": "07421843",
   "metadata": {},
   "outputs": [],
   "source": []
  }
 ],
 "metadata": {
  "kernelspec": {
   "display_name": "Python 3 (ipykernel)",
   "language": "python",
   "name": "python3"
  },
  "language_info": {
   "codemirror_mode": {
    "name": "ipython",
    "version": 3
   },
   "file_extension": ".py",
   "mimetype": "text/x-python",
   "name": "python",
   "nbconvert_exporter": "python",
   "pygments_lexer": "ipython3",
   "version": "3.10.11"
  }
 },
 "nbformat": 4,
 "nbformat_minor": 5
}
