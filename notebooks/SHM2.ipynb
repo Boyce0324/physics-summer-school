{
 "cells": [
  {
   "attachments": {},
   "cell_type": "markdown",
   "metadata": {},
   "source": [
    "# Simple Harmonic Oscillators (part 2.)"
   ]
  },
  {
   "attachments": {},
   "cell_type": "markdown",
   "metadata": {},
   "source": [
    "## Coupled Oscillators\n",
    "\n",
    "Now consider a situation where you have two equal masses connected to two fixed surfaces by springs with a constant $k_1=18Nm^{-1}$. However they are also coupled to each other by a spring of constant $k_2$. As shown below."
   ]
  },
  {
   "attachments": {},
   "cell_type": "markdown",
   "metadata": {},
   "source": [
    "![image](images/SHM_coupled.svg)"
   ]
  },
  {
   "attachments": {},
   "cell_type": "markdown",
   "metadata": {},
   "source": [
    "\n",
    "\n",
    "If the surface is now **frictionless** (again) their equations of motion then become:\n",
    "\n",
    "$$\n",
    "m\\frac{d^2x_1}{dt^2}=-x_1*k_1+(x_2-x_1)k_2 \\\\\n",
    "m\\frac{d^2x_2}{dt^2}=-x_2*k_1+(x_1-x_2)k_2 \n",
    "$$\n",
    "\n",
    "**Rearrange these into a set of four first differential equations.**"
   ]
  },
  {
   "cell_type": "code",
   "execution_count": null,
   "metadata": {},
   "outputs": [],
   "source": []
  },
  {
   "attachments": {},
   "cell_type": "markdown",
   "metadata": {},
   "source": [
    "<b>Write a simulation of this situation. I suggest that you start with $k_2$ being a lot smaller than $k_1$. Start the simulation with just one of the masses displaced from its equilibrium situation by 10cm and everything else is at rest. What is happening to the energy here? Save your plots for your presentation</b>"
   ]
  },
  {
   "cell_type": "code",
   "execution_count": null,
   "metadata": {},
   "outputs": [],
   "source": []
  },
  {
   "attachments": {},
   "cell_type": "markdown",
   "metadata": {},
   "source": [
    "## Forced Damped Oscillators\n",
    "Now reconsider the **damped oscillator** simulation from yesterday. This time, instead of being attached to a fixed wall, the end of the spring not attached to the mass is instead attached to a moving oscillator that is oscillating with an amplitude of 5cm and a frequency $\\Omega$"
   ]
  },
  {
   "attachments": {},
   "cell_type": "markdown",
   "metadata": {},
   "source": [
    "![SHM forced](images/SHM_forced.svg)</br>"
   ]
  },
  {
   "attachments": {},
   "cell_type": "markdown",
   "metadata": {},
   "source": [
    "<b> Incorporate this into your simulation. Now start with with you mass at rest at the unextended length of the spring. Investigate the motion of the mass for different values of $\\Omega$. You might want to especially consider both the situation where the damping is light (ie b is quite small) and where damping is very heavy (ie b is very large). You should run you simulation for more than 10s (perhaps 100s is better here but do investigate how the mass goes from stationary to its final motion). Take care to look at the amplitude of the motion Keep your plots they will be useful in your presentations tomorrow</b>. "
   ]
  },
  {
   "cell_type": "code",
   "execution_count": null,
   "metadata": {},
   "outputs": [],
   "source": []
  },
  {
   "attachments": {},
   "cell_type": "markdown",
   "metadata": {},
   "source": [
    "**As the driving frequence $\\Omega$ approaches the natural frequency $\\omega$ of the system, the amplitude of the steady state should be maximal. This phenomena is known as resonence. Try now to investigate this effect by repeating your simulation with different driving frequencies. How does the steady state amplitude respond?**"
   ]
  },
  {
   "cell_type": "code",
   "execution_count": null,
   "metadata": {},
   "outputs": [],
   "source": []
  },
  {
   "attachments": {},
   "cell_type": "markdown",
   "metadata": {},
   "source": [
    "---\n",
    "<div style=\"background-color: #FFF8C6\">\n",
    "\n",
    "## Adding oscillations and Fourier Transforms\n",
    "\n",
    "Often nature presents us with a sum of waves from different oscillators and often these are simply added togtether. These sums of sinusoids often give us interesting patterns from which we can determine the underlying structure. One such example is in the science of interferometry (try googling Michelson interferometer). Light sourcces are often made of individual lines with a fixed wavlengths and with a Michelson Interferometer, through very tiny movements of a mirror we are able to see the individual peaks and trough of light waves. When we have two  lines very close to each we see a superposition of the two waves.\n",
    "<br>\n",
    "<b> Simply by adding two sinusoides together show the pattern that you would see if you had a light source with two lines. One with a wavelength of of 560nm and another with a wavlength 562nm</b>\n"
   ]
  },
  {
   "cell_type": "code",
   "execution_count": null,
   "metadata": {},
   "outputs": [],
   "source": []
  },
  {
   "attachments": {},
   "cell_type": "markdown",
   "metadata": {},
   "source": [
    "<div style=\"background-color: #FFF8C6\">\n",
    "\n",
    "<b>\n",
    "Look up how to perform a (fast) fourier transform with SciPy and do this on your data. What does it show you?\n",
    "</b>"
   ]
  },
  {
   "cell_type": "code",
   "execution_count": null,
   "metadata": {},
   "outputs": [],
   "source": []
  }
 ],
 "metadata": {
  "kernelspec": {
   "display_name": "Python 3 (ipykernel)",
   "language": "python",
   "name": "python3"
  },
  "language_info": {
   "codemirror_mode": {
    "name": "ipython",
    "version": 3
   },
   "file_extension": ".py",
   "mimetype": "text/x-python",
   "name": "python",
   "nbconvert_exporter": "python",
   "pygments_lexer": "ipython3",
   "version": "3.10.11"
  }
 },
 "nbformat": 4,
 "nbformat_minor": 1
}
